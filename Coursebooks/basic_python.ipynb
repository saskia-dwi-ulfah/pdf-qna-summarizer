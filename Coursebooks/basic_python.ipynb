{
 "cells": [
  {
   "cell_type": "markdown",
   "metadata": {},
   "source": [
    "**Coursebook: Basic Python for Mastering LLM Use Cases**\n",
    "\n",
    "- Course Length: 3 hours\n",
    "- Last Updated: May 2024\n",
    "\n",
    "___\n",
    "\n",
    "Developed by Algoritma's Product Team"
   ]
  },
  {
   "cell_type": "markdown",
   "metadata": {},
   "source": [
    "# Basic Python for Mastering LLM Use Cases"
   ]
  },
  {
   "cell_type": "markdown",
   "metadata": {},
   "source": [
    "## Background\n",
    "The rise of powerful language models like OpenAI's GPT has shown the importance of Python. Python is known for being easy to use and flexible, making it crucial for using advanced AI technologies. Python's extensive libraries, such as TensorFlow, PyTorch, and Hugging Face's Transformers, help integrate, customize, and scale these language models. This allows for rapid innovation across many industries. As these models continue to improve, Python serves as both an entry point and a fundamental tool for developers and researchers in the growing field of AI. This demonstrates Python's indispensable role in today's technology landscape.\n",
    "\n",
    "## Objective\n",
    "As a foundational course, this coursebook aims to provide sufficient preparation before students can understand how to implement LLM using Python. The outline of this coursebook is as follows.\n",
    "\n",
    "1. **Variables and Data Types**\n",
    "   - Learn to declare variables in Python and understand their data types.\n",
    "   - Familiarize with keywords that cannot be used as variable names.\n",
    "\n",
    "2. **Data Structures**\n",
    "   - Explore common data structures in Python, such as lists, dictionaries, and tuples.\n",
    "   - Learn how to access data within these structures and practice using methods associated with each.\n",
    "\n",
    "3. **Functions**\n",
    "   - Master the art of defining functions in Python to enhance modularity and code reusability.\n",
    "\n",
    "4. **Libraries**\n",
    "   - Discover what libraries are in Python and learn the proper syntax for importing them to expand the coding toolkit."
   ]
  },
  {
   "cell_type": "markdown",
   "metadata": {},
   "source": [
    "# 1. Variables and Data Types"
   ]
  },
  {
   "cell_type": "markdown",
   "metadata": {},
   "source": [
    "## Variables"
   ]
  },
  {
   "cell_type": "markdown",
   "metadata": {},
   "source": [
    "When working with Python, most of our work involves storing certain values in variables. To assign a value to a variable, we use the assignment operator `=`. For example, we define the `activity` variable to store the value `\"programming\"`:"
   ]
  },
  {
   "cell_type": "code",
   "execution_count": 1,
   "metadata": {},
   "outputs": [],
   "source": [
    "activity = \"programming\""
   ]
  },
  {
   "cell_type": "markdown",
   "metadata": {},
   "source": [
    "It is important to note that variable names can include numbers, but they cannot begin with a number. Starting a variable name with a number will raise an error. In the code below, we attempt to define the 1activity variable. Notice how we use the `#` symbol to comment out part of the code. This commented part will not be executed. To see the error that is raised, uncomment the first line of the code in the cell below by deleting the `#` symbol."
   ]
  },
  {
   "cell_type": "code",
   "execution_count": 2,
   "metadata": {},
   "outputs": [],
   "source": [
    "# 1activity = \"playing\"\n",
    "# will raise SyntaxError"
   ]
  },
  {
   "cell_type": "markdown",
   "metadata": {},
   "source": [
    "## Data Types"
   ]
  },
  {
   "cell_type": "markdown",
   "metadata": {},
   "source": [
    "Each value stored in a variable holds a specific data type. Generally, we will introduce the three most common data types:\n",
    "\n",
    "* Data type for holding text values: `str`.\n",
    "* Data types for holding numeric values: `int` and `float`. \n",
    "  > It is important to note that the `float` type is reserved for floating-point numbers.\n",
    "* Data type for holding truth values: `bool`."
   ]
  },
  {
   "cell_type": "markdown",
   "metadata": {},
   "source": [
    "To verify the type of a variable, we can pass the variable to the built-in `type()` function."
   ]
  },
  {
   "cell_type": "code",
   "execution_count": 3,
   "metadata": {},
   "outputs": [
    {
     "name": "stdout",
     "output_type": "stream",
     "text": [
      "<class 'str'>\n"
     ]
    }
   ],
   "source": [
    "a = \"Studying\" # str type\n",
    "print(type(a))"
   ]
  },
  {
   "cell_type": "code",
   "execution_count": 4,
   "metadata": {},
   "outputs": [
    {
     "name": "stdout",
     "output_type": "stream",
     "text": [
      "<class 'int'>\n"
     ]
    }
   ],
   "source": [
    "b = 10 # int type\n",
    "print(type(b))"
   ]
  },
  {
   "cell_type": "code",
   "execution_count": 5,
   "metadata": {},
   "outputs": [
    {
     "name": "stdout",
     "output_type": "stream",
     "text": [
      "<class 'float'>\n"
     ]
    }
   ],
   "source": [
    "c = 10.0 # float type\n",
    "print(type(c))"
   ]
  },
  {
   "cell_type": "code",
   "execution_count": 6,
   "metadata": {},
   "outputs": [
    {
     "name": "stdout",
     "output_type": "stream",
     "text": [
      "<class 'bool'>\n"
     ]
    }
   ],
   "source": [
    "d = True # bool type\n",
    "print(type(d))"
   ]
  },
  {
   "cell_type": "markdown",
   "metadata": {},
   "source": [
    "Python is **case-sensitive**. `\"activity\"` and `\"Activity\"` are different symbols and will point to different variables. In the code below, we use the `==` operator to compare the equality of both values."
   ]
  },
  {
   "cell_type": "code",
   "execution_count": 7,
   "metadata": {},
   "outputs": [
    {
     "data": {
      "text/plain": [
       "False"
      ]
     },
     "execution_count": 7,
     "metadata": {},
     "output_type": "execute_result"
    }
   ],
   "source": [
    "'activity' == 'Activity'"
   ]
  },
  {
   "cell_type": "markdown",
   "metadata": {},
   "source": [
    "> The returned value is `False`. Verifying both values are different."
   ]
  },
  {
   "cell_type": "markdown",
   "metadata": {},
   "source": [
    "## Python Keywords"
   ]
  },
  {
   "cell_type": "markdown",
   "metadata": {},
   "source": [
    "A couple of things to note here: `True`, along with its opposite, `False`, are among a reserved list of terms referred to as **Python keywords**. We cannot use these keywords as variable names, function names, or assign values to them, essentially treating them as identifiers.\n",
    "\n",
    "Interestingly, all Python keywords except `True`, `False`, and `None`` are in lowercase, and they must be written exactly as they appear. As of Python 3.7 (the latest version of Python at the time of this writing), there are 33 keywords:\n",
    "\n",
    "`True`, `False`, `None`, `and`, `as`, `assert`, `break`, `class`, `continue`, `def`, `del`, `elif`, `else`, `except`, `finally`, `for`, `from`, `global`, `if`, `import`, `in`, `is`, `lambda`, `nonlocal`, `not`, `or`, `pass`, `raise`, `return`, `try`, `while`, `with`, `yield`."
   ]
  },
  {
   "cell_type": "markdown",
   "metadata": {},
   "source": [
    "# 2. Data Structure"
   ]
  },
  {
   "cell_type": "markdown",
   "metadata": {},
   "source": [
    "Previously, we reviewed some basic Python data types that each variable can possess. For more advanced purposes, Python provides more complex data structures that enable us to store several data types simultaneously. In this section, we will discuss the most commonly used Python data structures: list and dictionary."
   ]
  },
  {
   "cell_type": "markdown",
   "metadata": {},
   "source": [
    "## List"
   ]
  },
  {
   "cell_type": "markdown",
   "metadata": {},
   "source": [
    "A list is a Python data structure that allows us to store multiple values of different types. To create a list, start by using square brackets `[ ]`. For example, the `list_example` below can store a string, an integer, a floating-point number, and a boolean value."
   ]
  },
  {
   "cell_type": "code",
   "execution_count": 8,
   "metadata": {},
   "outputs": [],
   "source": [
    "list_example = [\"This is string.\", 30, 50.5, True]"
   ]
  },
  {
   "cell_type": "code",
   "execution_count": 9,
   "metadata": {},
   "outputs": [
    {
     "name": "stdout",
     "output_type": "stream",
     "text": [
      "['This is string.', 30, 50.5, True]\n"
     ]
    }
   ],
   "source": [
    "print(list_example)"
   ]
  },
  {
   "cell_type": "markdown",
   "metadata": {},
   "source": [
    "Just as before, we can verify the type of `list_example` using the `type()` function. This will confirm that `list_example` is of the type `list`."
   ]
  },
  {
   "cell_type": "code",
   "execution_count": 10,
   "metadata": {},
   "outputs": [
    {
     "data": {
      "text/plain": [
       "list"
      ]
     },
     "execution_count": 10,
     "metadata": {},
     "output_type": "execute_result"
    }
   ],
   "source": [
    "type(list_example)"
   ]
  },
  {
   "cell_type": "markdown",
   "metadata": {},
   "source": [
    "To access the values within a list, it's necessary to know their indexes. Python uses zero-based indexing, meaning the first position in the list corresponds to index 0, the second position to index 1, and so on. For example, if we want to access the value `50.5` in the `list_example` list, we would refer to it by its position, which is the third, hence index 2."
   ]
  },
  {
   "cell_type": "code",
   "execution_count": 11,
   "metadata": {},
   "outputs": [
    {
     "data": {
      "text/plain": [
       "50.5"
      ]
     },
     "execution_count": 11,
     "metadata": {},
     "output_type": "execute_result"
    }
   ],
   "source": [
    "# access 50.5: 3rd position, index = 2\n",
    "list_example[2]"
   ]
  },
  {
   "cell_type": "markdown",
   "metadata": {},
   "source": [
    "Another way to access items in a list is by indexing from the end using negative numbers. If you pass -1 as the index, it will return the last item in the list. Extending the previous example, you can also access the value `50.5` by passing -2 as the index, which refers to the second-to-last item in the list."
   ]
  },
  {
   "cell_type": "code",
   "execution_count": 12,
   "metadata": {},
   "outputs": [
    {
     "data": {
      "text/plain": [
       "50.5"
      ]
     },
     "execution_count": 12,
     "metadata": {},
     "output_type": "execute_result"
    }
   ],
   "source": [
    "# access 50.5: back indexing\n",
    "list_example[-2]"
   ]
  },
  {
   "cell_type": "markdown",
   "metadata": {},
   "source": [
    "Lists come in handy as they support several built-in methods for manipulating the data structure. For example:"
   ]
  },
  {
   "cell_type": "markdown",
   "metadata": {},
   "source": [
    "* Determine the size of the list with `len()` function"
   ]
  },
  {
   "cell_type": "code",
   "execution_count": 13,
   "metadata": {},
   "outputs": [
    {
     "data": {
      "text/plain": [
       "4"
      ]
     },
     "execution_count": 13,
     "metadata": {},
     "output_type": "execute_result"
    }
   ],
   "source": [
    "len(list_example)"
   ]
  },
  {
   "cell_type": "markdown",
   "metadata": {},
   "source": [
    "* Add an element at the end of the list with `.append()` method"
   ]
  },
  {
   "cell_type": "code",
   "execution_count": 14,
   "metadata": {},
   "outputs": [],
   "source": [
    "# add False to the list\n",
    "list_example.append('False')"
   ]
  },
  {
   "cell_type": "code",
   "execution_count": 15,
   "metadata": {},
   "outputs": [
    {
     "data": {
      "text/plain": [
       "['This is string.', 30, 50.5, True, 'False']"
      ]
     },
     "execution_count": 15,
     "metadata": {},
     "output_type": "execute_result"
    }
   ],
   "source": [
    "list_example"
   ]
  },
  {
   "cell_type": "markdown",
   "metadata": {},
   "source": [
    "* Remove the item with the specified value using `.remove()` method"
   ]
  },
  {
   "cell_type": "code",
   "execution_count": 16,
   "metadata": {},
   "outputs": [],
   "source": [
    "# remove True from the list\n",
    "list_example.remove(True)"
   ]
  },
  {
   "cell_type": "code",
   "execution_count": 17,
   "metadata": {},
   "outputs": [
    {
     "data": {
      "text/plain": [
       "['This is string.', 30, 50.5, 'False']"
      ]
     },
     "execution_count": 17,
     "metadata": {},
     "output_type": "execute_result"
    }
   ],
   "source": [
    "list_example"
   ]
  },
  {
   "cell_type": "markdown",
   "metadata": {},
   "source": [
    "> For more built-in list methods, check [this reference](https://www.w3schools.com/python/python_lists_methods.asp)."
   ]
  },
  {
   "cell_type": "markdown",
   "metadata": {},
   "source": [
    "## Dictionary"
   ]
  },
  {
   "cell_type": "markdown",
   "metadata": {},
   "source": [
    "In a list, we use the index to determine the position and access a specific value. In a dictionary, we store values using a key as the identifier in a key-value structure. To declare a dictionary, we use curly brackets `{ }`. Let's create `dict_example` to understand how to create and use a dictionary."
   ]
  },
  {
   "cell_type": "code",
   "execution_count": 18,
   "metadata": {},
   "outputs": [],
   "source": [
    "dict_example = {\n",
    "    \"name\" : \"Taylor Swift\",\n",
    "    \"age\" : 34,\n",
    "    \"popular_songs\" : ['Shake It Off','Blank Space','Lover']\n",
    "}"
   ]
  },
  {
   "cell_type": "code",
   "execution_count": 19,
   "metadata": {},
   "outputs": [
    {
     "data": {
      "text/plain": [
       "{'name': 'Taylor Swift',\n",
       " 'age': 34,\n",
       " 'popular_songs': ['Shake It Off', 'Blank Space', 'Lover']}"
      ]
     },
     "execution_count": 19,
     "metadata": {},
     "output_type": "execute_result"
    }
   ],
   "source": [
    "dict_example"
   ]
  },
  {
   "cell_type": "markdown",
   "metadata": {},
   "source": [
    "As you may have noticed in the code above:\n",
    "\n",
    "* The dictionary keys are `\"name\"`, `\"age\"`, and `\"popular_songs\"`.\n",
    "* The corresponding dictionary values are `\"Taylor Swift\"`, `34`, and `['Shake It Off', 'Blank Space', 'Lover']`."
   ]
  },
  {
   "cell_type": "markdown",
   "metadata": {},
   "source": [
    "If you pass a dictionary to the `type()` function, it will return `dict` as the response."
   ]
  },
  {
   "cell_type": "code",
   "execution_count": 20,
   "metadata": {},
   "outputs": [
    {
     "data": {
      "text/plain": [
       "dict"
      ]
     },
     "execution_count": 20,
     "metadata": {},
     "output_type": "execute_result"
    }
   ],
   "source": [
    "type(dict_example)"
   ]
  },
  {
   "cell_type": "markdown",
   "metadata": {},
   "source": [
    "To access a specific value, such as the list of popular songs by Taylor Swift, we must use its corresponding key."
   ]
  },
  {
   "cell_type": "code",
   "execution_count": 21,
   "metadata": {},
   "outputs": [
    {
     "data": {
      "text/plain": [
       "['Shake It Off', 'Blank Space', 'Lover']"
      ]
     },
     "execution_count": 21,
     "metadata": {},
     "output_type": "execute_result"
    }
   ],
   "source": [
    "# access the value of dictionary\n",
    "dict_example['popular_songs']"
   ]
  },
  {
   "cell_type": "markdown",
   "metadata": {},
   "source": [
    "To add a component to a dictionary, you can simply do it as follows:"
   ]
  },
  {
   "cell_type": "code",
   "execution_count": 22,
   "metadata": {},
   "outputs": [],
   "source": [
    "# add the place of birth\n",
    "dict_example['place_of_birth'] = 'Pennsylvania'"
   ]
  },
  {
   "cell_type": "code",
   "execution_count": 23,
   "metadata": {},
   "outputs": [
    {
     "data": {
      "text/plain": [
       "{'name': 'Taylor Swift',\n",
       " 'age': 34,\n",
       " 'popular_songs': ['Shake It Off', 'Blank Space', 'Lover'],\n",
       " 'place_of_birth': 'Pennsylvania'}"
      ]
     },
     "execution_count": 23,
     "metadata": {},
     "output_type": "execute_result"
    }
   ],
   "source": [
    "dict_example"
   ]
  },
  {
   "cell_type": "markdown",
   "metadata": {},
   "source": [
    "Similar to list, dictionary also offers several built-in methods for convenience. For example:"
   ]
  },
  {
   "cell_type": "markdown",
   "metadata": {},
   "source": [
    "* Return the list of keys with `.keys()` method."
   ]
  },
  {
   "cell_type": "code",
   "execution_count": 24,
   "metadata": {},
   "outputs": [
    {
     "data": {
      "text/plain": [
       "dict_keys(['name', 'age', 'popular_songs', 'place_of_birth'])"
      ]
     },
     "execution_count": 24,
     "metadata": {},
     "output_type": "execute_result"
    }
   ],
   "source": [
    "dict_example.keys()"
   ]
  },
  {
   "cell_type": "markdown",
   "metadata": {},
   "source": [
    "* Return the list of values with `.values()` method."
   ]
  },
  {
   "cell_type": "code",
   "execution_count": 25,
   "metadata": {},
   "outputs": [
    {
     "data": {
      "text/plain": [
       "dict_values(['Taylor Swift', 34, ['Shake It Off', 'Blank Space', 'Lover'], 'Pennsylvania'])"
      ]
     },
     "execution_count": 25,
     "metadata": {},
     "output_type": "execute_result"
    }
   ],
   "source": [
    "dict_example.values()"
   ]
  },
  {
   "cell_type": "markdown",
   "metadata": {},
   "source": [
    "* Remove the elemet with the specified key using `.pop()` method."
   ]
  },
  {
   "cell_type": "code",
   "execution_count": 26,
   "metadata": {},
   "outputs": [
    {
     "data": {
      "text/plain": [
       "['Shake It Off', 'Blank Space', 'Lover']"
      ]
     },
     "execution_count": 26,
     "metadata": {},
     "output_type": "execute_result"
    }
   ],
   "source": [
    "dict_example.pop('popular_songs')"
   ]
  },
  {
   "cell_type": "code",
   "execution_count": 27,
   "metadata": {},
   "outputs": [
    {
     "data": {
      "text/plain": [
       "{'name': 'Taylor Swift', 'age': 34, 'place_of_birth': 'Pennsylvania'}"
      ]
     },
     "execution_count": 27,
     "metadata": {},
     "output_type": "execute_result"
    }
   ],
   "source": [
    "dict_example"
   ]
  },
  {
   "cell_type": "markdown",
   "metadata": {},
   "source": [
    "> For more built-in dictionary methods, check [this reference](https://www.w3schools.com/python/python_dictionaries_methods.asp)."
   ]
  },
  {
   "cell_type": "markdown",
   "metadata": {},
   "source": [
    "# 3. Function"
   ]
  },
  {
   "cell_type": "markdown",
   "metadata": {},
   "source": [
    "In Python, a function is a block of code that we can call repeatedly. This functionality helps organize our code writing more efficiently and neatly. In the following code examples, we will demonstrate various ways to declare Python functions, ranging from the simplest to those that utilize parameters and a `return` statement."
   ]
  },
  {
   "cell_type": "markdown",
   "metadata": {},
   "source": [
    "To define a Python function, we start with the `def` keyword followed by the function name. For example, in the following code, we create a function to print someone's name."
   ]
  },
  {
   "cell_type": "code",
   "execution_count": 28,
   "metadata": {},
   "outputs": [],
   "source": [
    "# case 1: Python function without any arguments and return statement\n",
    "def print_name():\n",
    "    print(\"My name is John Doe.\")"
   ]
  },
  {
   "cell_type": "markdown",
   "metadata": {},
   "source": [
    "To call the function, simply type the function name followed by `()`."
   ]
  },
  {
   "cell_type": "code",
   "execution_count": 29,
   "metadata": {},
   "outputs": [
    {
     "name": "stdout",
     "output_type": "stream",
     "text": [
      "My name is John Doe.\n"
     ]
    }
   ],
   "source": [
    "print_name()"
   ]
  },
  {
   "cell_type": "markdown",
   "metadata": {},
   "source": [
    "To enhance our code's usability, we can modify our function to adjust based on the parameters passed to it. Using the previous code as a base, we will modify the function to print whatever is passed during the function call."
   ]
  },
  {
   "cell_type": "code",
   "execution_count": 30,
   "metadata": {},
   "outputs": [],
   "source": [
    "# case 2: Python function with arguments\n",
    "def print_name_custom(first_name, last_name):\n",
    "    print(f\"My name is {first_name} {last_name}.\")"
   ]
  },
  {
   "cell_type": "markdown",
   "metadata": {},
   "source": [
    "Notice how we define two arguments for our `print_name_custom` function. Later, the print statement will output the values of these arguments.\n",
    "\n",
    "> **Info:** The `f` you see within the `print` statement is used to construct an **F-string**. Simply put, it allows us to include variables directly within our string definition."
   ]
  },
  {
   "cell_type": "markdown",
   "metadata": {},
   "source": [
    "When our function has arguments, there are two ways to call it. First, you can pass the values of the arguments without explicitly stating which value corresponds to which argument. By default, Python will infer the values based on the order of the arguments in the function definition. For example, in the code below, we pass \"Taylor\" first and \"Swift\" last. Python will automatically assign `first_name = \"Taylor\"` and `last_name = \"Swift\"`."
   ]
  },
  {
   "cell_type": "code",
   "execution_count": 31,
   "metadata": {},
   "outputs": [
    {
     "name": "stdout",
     "output_type": "stream",
     "text": [
      "My name is Taylor Swift.\n"
     ]
    }
   ],
   "source": [
    "print_name_custom(\"Taylor\", \"Swift\")"
   ]
  },
  {
   "cell_type": "markdown",
   "metadata": {},
   "source": [
    "The second way involves explicitly passing the values of the arguments using the assignment operator. This method allows you to ignore the order of the arguments, as you specify which value corresponds to which parameter directly."
   ]
  },
  {
   "cell_type": "code",
   "execution_count": 32,
   "metadata": {},
   "outputs": [
    {
     "name": "stdout",
     "output_type": "stream",
     "text": [
      "My name is Taylor Swift.\n"
     ]
    }
   ],
   "source": [
    "print_name_custom(last_name=\"Swift\", first_name=\"Taylor\", )"
   ]
  },
  {
   "cell_type": "markdown",
   "metadata": {},
   "source": [
    "Python allows us to define functions that return values. Let's modify our previous code for printing the name to include a return statement."
   ]
  },
  {
   "cell_type": "code",
   "execution_count": 33,
   "metadata": {},
   "outputs": [],
   "source": [
    "# case 3: Python function with return statement\n",
    "\n",
    "def print_name_return(first_name, last_name):\n",
    "    return f\"My name is {first_name} {last_name}.\""
   ]
  },
  {
   "cell_type": "markdown",
   "metadata": {},
   "source": [
    "Notice that instead of directly printing the name, our function now only returns the values. To inspect the function's result, we must pair the function call with the `print()` function."
   ]
  },
  {
   "cell_type": "code",
   "execution_count": 34,
   "metadata": {},
   "outputs": [
    {
     "name": "stdout",
     "output_type": "stream",
     "text": [
      "My name is Selena Gomez.\n"
     ]
    }
   ],
   "source": [
    "print(print_name_return(\"Selena\", \"Gomez\"))"
   ]
  },
  {
   "cell_type": "markdown",
   "metadata": {},
   "source": [
    "# 4. Library"
   ]
  },
  {
   "cell_type": "markdown",
   "metadata": {},
   "source": [
    "One of the advantages of working with Python is the availability of numerous useful packages or libraries. You can think of a library as a collection of functions that someone else has written, which we can reuse. To be able to use these functions, we must import them into our sessions.\n",
    "\n",
    "There are 2 common ways of importing Python libraries you wil frequently encounter. First, you import the library with `import` statement and when we want to use specific function, we chain the library name and the function name. For example, we use `dotenv` library and want to use `load_dotenv()` function. This way, the import style is written as:"
   ]
  },
  {
   "cell_type": "markdown",
   "metadata": {},
   "source": [
    "```python\n",
    "# import the library\n",
    "import dotenv\n",
    "\n",
    "# how to call the function\n",
    "dotenv.load_dotenv()\n",
    "\n",
    "```"
   ]
  },
  {
   "cell_type": "markdown",
   "metadata": {},
   "source": [
    "Second, you can directly import the `load_dotenv()` function using the `from` statement. When calling this function, you don't need to prepend the library name to the function name."
   ]
  },
  {
   "cell_type": "markdown",
   "metadata": {},
   "source": [
    "```python\n",
    "# import the library\n",
    "from dotenv import load_dotenv\n",
    "\n",
    "# how to call the function\n",
    "load_dotenv()\n",
    "\n",
    "```"
   ]
  },
  {
   "cell_type": "markdown",
   "metadata": {},
   "source": [
    "# Summary\n",
    "\n",
    "In this coursebook, we have prepared foundational knowledge that enables us to step up to more complex use cases, such as LLM implementation. We've explored how to declare variables and understand their data types. Additionally, we discussed common data structures, such as lists and dictionaries, which are essential when working with more complex Python libraries. Moving to more advanced concepts, we learned how to create functions, which are callable units in Python. We also introduced libraries themselves and demonstrated how to import them to facilitate our work.\n",
    "\n",
    "In the next course, we will delve deeper into the foundation and implementation of LLMs using the LangChain Python library."
   ]
  },
  {
   "cell_type": "markdown",
   "metadata": {},
   "source": [
    "# Further Readings:\n",
    "\n",
    "* [Python Tutorial](https://www.w3schools.com/python/).\n",
    "* [The Python Tutorial](https://docs.python.org/3.10/tutorial/index.html)."
   ]
  }
 ],
 "metadata": {
  "kernelspec": {
   "display_name": "pro_xl",
   "language": "python",
   "name": "python3"
  },
  "language_info": {
   "codemirror_mode": {
    "name": "ipython",
    "version": 3
   },
   "file_extension": ".py",
   "mimetype": "text/x-python",
   "name": "python",
   "nbconvert_exporter": "python",
   "pygments_lexer": "ipython3",
   "version": "3.10.14"
  }
 },
 "nbformat": 4,
 "nbformat_minor": 2
}
